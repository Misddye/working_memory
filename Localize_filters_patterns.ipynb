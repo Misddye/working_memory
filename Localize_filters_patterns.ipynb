{
 "cells": [
  {
   "cell_type": "code",
   "execution_count": 52,
   "id": "a5e4361d",
   "metadata": {},
   "outputs": [],
   "source": [
    "import mne\n",
    "import os.path as op\n",
    "from stormdb.access import Query\n",
    "from sys import argv\n",
    "import pickle\n",
    "import numpy as np"
   ]
  },
  {
   "cell_type": "code",
   "execution_count": 15,
   "id": "a5e5502a",
   "metadata": {},
   "outputs": [],
   "source": [
    "proj_name = 'MINDLAB2020_MEG-AuditoryPatternRecognition'\n",
    "wdir = '/projects/' + proj_name + '/scratch/working_memory/'\n",
    "data_dir = wdir + 'averages/data/'\n",
    "mode = 'patterns'\n",
    "suffix = 'task_sensor_lf_0.05_hf_None_tstep_0.025_twin_0.05'\n",
    "qr = Query(proj_name)\n",
    "subs = qr.get_subjects()\n",
    "scode = 11\n",
    "if len(argv) > 1:\n",
    "    scode = int(argv[1])\n",
    "sub = subs[scode-1] "
   ]
  },
  {
   "cell_type": "code",
   "execution_count": 28,
   "id": "849dcc85",
   "metadata": {},
   "outputs": [
    {
     "name": "stderr",
     "output_type": "stream",
     "text": [
      "/tmp/ipykernel_3563/2317333950.py:6: DeprecationWarning: Info does not support directly setting the key 'srate', this warning will turn into an error after 0.24. You can set info['temp'] to store temporary objects in an Info instance, but these will not survive an I/O round-trip.\n",
      "  p = pickle.load(cfile)\n",
      "/tmp/ipykernel_3563/2317333950.py:6: DeprecationWarning: Info does not support directly setting the key 'srate', this warning will turn into an error after 0.24. You can set info['temp'] to store temporary objects in an Info instance, but these will not survive an I/O round-trip.\n",
      "  p = pickle.load(cfile)\n"
     ]
    }
   ],
   "source": [
    "cfname = op.join(data_dir,sub,sub + '_patterns_' + suffix + '.p')\n",
    "times_fname = op.join(data_dir,sub,sub + '_times_' + suffix + '.p')\n",
    "inv_fname = op.join(data_dir,sub,sub + '_evoked_inverse_lf_0.05_hf_40_tstep_0.025_twin_0.05.p')\n",
    "\n",
    "cfile = open(cfname,'rb')\n",
    "p = pickle.load(cfile)\n",
    "cfile.close()\n",
    "\n",
    "times_file = open(times_fname,'rb')\n",
    "times = pickle.load(times_file)\n",
    "times_file.close()\n",
    "\n",
    "inv_file = open(inv_fname,'rb')\n",
    "inv = pickle.load(inv_file)\n",
    "inv_file.close()"
   ]
  },
  {
   "cell_type": "code",
   "execution_count": 47,
   "id": "54a58232",
   "metadata": {},
   "outputs": [],
   "source": [
    "for cp in p:\n",
    "    p[cp].times = times[cp[0:-1]]"
   ]
  },
  {
   "cell_type": "code",
   "execution_count": 48,
   "id": "0e2bb4e9",
   "metadata": {},
   "outputs": [
    {
     "name": "stderr",
     "output_type": "stream",
     "text": [
      "/users/david/miniconda3/envs/mne/lib/python3.9/copy.py:153: DeprecationWarning: Info does not support directly setting the key 'srate', this warning will turn into an error after 0.24. You can set info['temp'] to store temporary objects in an Info instance, but these will not survive an I/O round-trip.\n",
      "  y = copier(memo)\n"
     ]
    }
   ],
   "source": [
    "p['interaction'] = mne.combine_evoked([p['manipulation1'],p['maintenance1']],weights=[1,-1])"
   ]
  },
  {
   "cell_type": "code",
   "execution_count": 49,
   "id": "cf6c589b",
   "metadata": {},
   "outputs": [],
   "source": [
    "sources = {}\n",
    "for e in p:\n",
    "    sources[e] = mne.beamformer.apply_lcmv(p[e],inv)\n",
    "    sources[e].tmin = times[cp[0:-1]][0]\n",
    "    sources[e].tmax = times[cp[0:-1]][-1]\n",
    "    sources[e].tstep = np.diff(times[cp[0:-1]])[0]"
   ]
  },
  {
   "cell_type": "code",
   "execution_count": 50,
   "id": "764fd990",
   "metadata": {},
   "outputs": [
    {
     "data": {
      "text/plain": [
       "{'maintenance1': <VolSourceEstimate | 12134 vertices, subject : 0011_U7X, tmin : -75.00000000000001 (ms), tmax : 3974.9999999999995 (ms), tstep : 25.0 (ms), data shape : (12134, 163), ~15.2 MB>,\n",
       " 'manipulation1': <VolSourceEstimate | 12134 vertices, subject : 0011_U7X, tmin : -75.00000000000001 (ms), tmax : 3974.9999999999995 (ms), tstep : 25.0 (ms), data shape : (12134, 163), ~15.2 MB>,\n",
       " 'interaction': <VolSourceEstimate | 12134 vertices, subject : 0011_U7X, tmin : -75.00000000000001 (ms), tmax : 3974.9999999999995 (ms), tstep : 25.0 (ms), data shape : (12134, 163), ~15.2 MB>}"
      ]
     },
     "execution_count": 50,
     "metadata": {},
     "output_type": "execute_result"
    }
   ],
   "source": [
    "sources"
   ]
  },
  {
   "cell_type": "code",
   "execution_count": 51,
   "id": "b69b9c8c",
   "metadata": {},
   "outputs": [],
   "source": [
    "src_fname = op.join(data_dir,sub,sub + '_{}_sources_{}.p'.format(mode,suffix))\n",
    "src_file = open(src_fname,'wb')\n",
    "pickle.dump(sources,src_file)\n",
    "src_file.close()"
   ]
  },
  {
   "cell_type": "code",
   "execution_count": null,
   "id": "196e1797",
   "metadata": {},
   "outputs": [],
   "source": []
  }
 ],
 "metadata": {
  "kernelspec": {
   "display_name": "Python 3 (ipykernel)",
   "language": "python",
   "name": "python3"
  },
  "language_info": {
   "codemirror_mode": {
    "name": "ipython",
    "version": 3
   },
   "file_extension": ".py",
   "mimetype": "text/x-python",
   "name": "python",
   "nbconvert_exporter": "python",
   "pygments_lexer": "ipython3",
   "version": "3.9.10"
  }
 },
 "nbformat": 4,
 "nbformat_minor": 5
}
