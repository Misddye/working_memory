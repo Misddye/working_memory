{
 "cells": [
  {
   "cell_type": "code",
   "execution_count": 1,
   "id": "8640b1bf",
   "metadata": {},
   "outputs": [],
   "source": [
    "import mne\n",
    "#%gui qt\n",
    "#import matplotlib\n",
    "\n",
    "#%matplotlib qt\n",
    "import numpy as np\n",
    "from matplotlib import pyplot as plt\n",
    "from stormdb.access import Query\n",
    "from pickle import load\n",
    "from scipy import stats\n",
    "from mne.datasets import sample\n",
    "from mne.stats import spatio_temporal_cluster_1samp_test\n",
    "import os\n",
    "import pickle\n",
    "from copy import deepcopy\n",
    "import warnings\n",
    "warnings.filterwarnings(\"ignore\", category=DeprecationWarning) \n",
    "# os.environ['ETS_TOOLKIT'] = 'qt4'\n",
    "# os.environ['QT_API'] = 'pyqt5'\n",
    "# %gui qt\n",
    "#mne.viz.set_3d_backend(\"notebook\")"
   ]
  },
  {
   "cell_type": "code",
   "execution_count": 2,
   "id": "d7509def",
   "metadata": {},
   "outputs": [
    {
     "name": "stdout",
     "output_type": "stream",
     "text": [
      "    Reading a source space...\n",
      "    [done]\n",
      "    1 source spaces read\n"
     ]
    }
   ],
   "source": [
    "proj_name = 'MINDLAB2020_MEG-AuditoryPatternRecognition'\n",
    "wdir = '/projects/' + proj_name + '/scratch/working_memory/'\n",
    "stats_dir = wdir + 'results/stats/'\n",
    "data_dir = wdir + 'averages/data/'\n",
    "figures_dir = wdir + 'results/figures/'\n",
    "\n",
    "subs_dir = '/projects/' + proj_name + '/scratch/fs_subjects_dir/'\n",
    "sample_path = sample.data_path()\n",
    "sample_subjects_dir = sample_path + '/subjects'\n",
    "# src_sample = mne.read_source_spaces(sample_subjects_dir +\n",
    "#                                 '/fsaverage/bem/fsaverage-vol-5-src.fif')\n",
    "src_sample = mne.read_source_spaces(subs_dir +\n",
    "                                'fsaverage/bem/fsaverage-vol-5-src.fif')\n",
    "#label_file = subs_dir + 'fsaverage/mri/aparc.DKTatlas+aseg.mgz'\n",
    "label_file = sample_subjects_dir + '/fsaverage/mri/aparc.a2009s+aseg.mgz'\n"
   ]
  },
  {
   "cell_type": "code",
   "execution_count": 3,
   "id": "77fc7c09",
   "metadata": {},
   "outputs": [
    {
     "name": "stderr",
     "output_type": "stream",
     "text": [
      "IOPub data rate exceeded.\n",
      "The notebook server will temporarily stop sending output\n",
      "to the client in order to avoid crashing it.\n",
      "To change this limit, set the config variable\n",
      "`--NotebookApp.iopub_data_rate_limit`.\n",
      "\n",
      "Current values:\n",
      "NotebookApp.iopub_data_rate_limit=1000000.0 (bytes/sec)\n",
      "NotebookApp.rate_limit_window=3.0 (secs)\n",
      "\n"
     ]
    }
   ],
   "source": [
    "# Read stats\n",
    "periods = {'encoding': [0,2],'delay': [2,4]}#,'retrieval': [4,6.25]}\n",
    "#periods = {'delay': [2,4]}#,'retrieval': [4,6.25]}\n",
    "\n",
    "stats = {}\n",
    "\n",
    "for p in periods:\n",
    "    csfname = '{}ERF_source_stats_{}.p'.format(stats_dir, p)\n",
    "    cfile = open(csfname,'rb')\n",
    "    stats[p] = pickle.load(cfile)\n",
    "    cfile.close()\n",
    "print(stats)"
   ]
  },
  {
   "cell_type": "code",
   "execution_count": 4,
   "id": "722a37d6",
   "metadata": {},
   "outputs": [
    {
     "name": "stdout",
     "output_type": "stream",
     "text": [
      "encoding\n",
      "maintenance/mel1\n",
      "maintenance/mel2\n",
      "manipulation/mel1\n",
      "manipulation/mel2\n",
      "melody_maintenance\n",
      "melody_manipulation\n",
      "block\n",
      "melody\n",
      "interaction\n",
      "delay\n",
      "maintenance/mel1\n",
      "maintenance/mel2\n",
      "manipulation/mel1\n",
      "manipulation/mel2\n",
      "melody_maintenance\n",
      "melody_manipulation\n",
      "block\n",
      "melody\n",
      "interaction\n"
     ]
    }
   ],
   "source": [
    "for c in stats:\n",
    "    print(c)\n",
    "    for s in stats[c]:\n",
    "        print(s)"
   ]
  },
  {
   "cell_type": "code",
   "execution_count": 5,
   "id": "a3fb314c",
   "metadata": {},
   "outputs": [
    {
     "ename": "MemoryError",
     "evalue": "",
     "output_type": "error",
     "traceback": [
      "\u001b[0;31m---------------------------------------------------------------------------\u001b[0m",
      "\u001b[0;31mMemoryError\u001b[0m                               Traceback (most recent call last)",
      "\u001b[0;32m/tmp/ipykernel_9737/2669867409.py\u001b[0m in \u001b[0;36m<cell line: 4>\u001b[0;34m()\u001b[0m\n\u001b[1;32m      2\u001b[0m \u001b[0mdfname\u001b[0m \u001b[0;34m=\u001b[0m \u001b[0mdata_dir\u001b[0m \u001b[0;34m+\u001b[0m \u001b[0;34m'0021_LZW/0021_LZW_evoked_sources_lf_0.05_hf_40_tstep_0.025_twin_0.05.p'\u001b[0m\u001b[0;34m\u001b[0m\u001b[0;34m\u001b[0m\u001b[0m\n\u001b[1;32m      3\u001b[0m \u001b[0mdfile\u001b[0m \u001b[0;34m=\u001b[0m \u001b[0mopen\u001b[0m\u001b[0;34m(\u001b[0m\u001b[0mdfname\u001b[0m\u001b[0;34m,\u001b[0m\u001b[0;34m'rb'\u001b[0m\u001b[0;34m)\u001b[0m\u001b[0;34m\u001b[0m\u001b[0;34m\u001b[0m\u001b[0m\n\u001b[0;32m----> 4\u001b[0;31m \u001b[0mall_stc\u001b[0m \u001b[0;34m=\u001b[0m \u001b[0mpickle\u001b[0m\u001b[0;34m.\u001b[0m\u001b[0mload\u001b[0m\u001b[0;34m(\u001b[0m\u001b[0mdfile\u001b[0m\u001b[0;34m)\u001b[0m\u001b[0;34m\u001b[0m\u001b[0;34m\u001b[0m\u001b[0m\n\u001b[0m\u001b[1;32m      5\u001b[0m \u001b[0mdfile\u001b[0m\u001b[0;34m.\u001b[0m\u001b[0mclose\u001b[0m\u001b[0;34m(\u001b[0m\u001b[0;34m)\u001b[0m\u001b[0;34m\u001b[0m\u001b[0;34m\u001b[0m\u001b[0m\n\u001b[1;32m      6\u001b[0m \u001b[0mstc\u001b[0m \u001b[0;34m=\u001b[0m \u001b[0mdeepcopy\u001b[0m\u001b[0;34m(\u001b[0m\u001b[0mall_stc\u001b[0m\u001b[0;34m[\u001b[0m\u001b[0;34m'maintenance'\u001b[0m\u001b[0;34m]\u001b[0m\u001b[0;34m)\u001b[0m\u001b[0;34m\u001b[0m\u001b[0;34m\u001b[0m\u001b[0m\n",
      "\u001b[0;31mMemoryError\u001b[0m: "
     ]
    }
   ],
   "source": [
    "# Load and morph a source time course\n",
    "dfname = data_dir + '0021_LZW/0021_LZW_evoked_sources_lf_0.05_hf_40_tstep_0.025_twin_0.05.p'\n",
    "dfile = open(dfname,'rb')\n",
    "all_stc = pickle.load(dfile)\n",
    "dfile.close()\n",
    "stc = deepcopy(all_stc['maintenance'])\n",
    "del all_stc\n",
    "\n",
    "# load source morph\n",
    "morph = mne.read_source_morph(subs_dir + '0021_LZW/bem/0021_LZW_vol-morph.h5')\n",
    "stc = morph.apply(stc)\n",
    "print(stc)"
   ]
  },
  {
   "cell_type": "code",
   "execution_count": null,
   "id": "790aa661",
   "metadata": {},
   "outputs": [],
   "source": [
    " labels = mne.get_volume_labels_from_aseg(label_file)"
   ]
  },
  {
   "cell_type": "code",
   "execution_count": null,
   "id": "c86f243e",
   "metadata": {},
   "outputs": [],
   "source": [
    "for l in labels:\n",
    "    print(l)"
   ]
  },
  {
   "cell_type": "code",
   "execution_count": null,
   "id": "15ebf880",
   "metadata": {},
   "outputs": [],
   "source": [
    "clabels = ['Left-Thalamus-Proper',\n",
    "           'Right-Thalamus-Proper',\n",
    "           #'Left-Caudate',\n",
    "           #'Right-Caudate',\n",
    "           'ctx_lh_G_and_S_cingul-Ant',\n",
    "           'ctx_rh_G_and_S_cingul-Ant',\n",
    "           'ctx_lh_G_and_S_cingul-Mid-Ant',\n",
    "           'ctx_rh_G_and_S_cingul-Mid-Ant',\n",
    "           'ctx_lh_G_and_S_cingul-Mid-Post',\n",
    "           'ctx_rh_G_and_S_cingul-Mid-Post',\n",
    "           'ctx_lh_G_temp_sup-G_T_transv',\n",
    "           'ctx_rh_G_temp_sup-G_T_transv',\n",
    "           'ctx_lh_G_temp_sup-Lateral',\n",
    "           'ctx_rh_G_temp_sup-Lateral']\n",
    "\n",
    "stc_labels = {}\n",
    "se_labels = {}\n",
    "conds = ['maintenance/mel1','maintenance/mel2','manipulation/mel1','manipulation/mel2',\n",
    "         'melody_maintenance','melody_manipulation','block','melody','interaction']\n",
    "for c in conds:\n",
    "    cdata = stc.copy().crop(0,4)\n",
    "    cse = stc.copy().crop(0,4)\n",
    "    cdata.data = np.hstack((stats['encoding'][c]['data_mean'],stats['delay'][c]['data_mean'])) # * stats_results[c]['mask'] \n",
    "    cse.data = np.hstack((stats['encoding'][c]['data_sd'],stats['delay'][c]['data_sd'])) / np.sqrt(stats['encoding'][c]['n'])# * stats_results[c]['mask'] \n",
    "#    cdata.data = stats['encoding'][c]['data_mean'].T # * stats_results[c]['mask'] \n",
    "#    cse.data = stats['encoding'][c]['data_sd'].T / np.sqrt(stats['encoding'][c]['n'])# * stats_results[c]['mask'] \n",
    "    stc_labels[c] = cdata.extract_label_time_course(labels = [label_file,clabels], src = src_sample, mode = 'auto')\n",
    "    se_labels[c] = cse.extract_label_time_course(labels = [label_file,clabels], src = src_sample, mode = 'auto')"
   ]
  },
  {
   "cell_type": "code",
   "execution_count": null,
   "id": "9ef87d0b",
   "metadata": {},
   "outputs": [],
   "source": [
    "times = stc.copy().crop(-0.025,4).times \n",
    "periods = ['encoding','delay']\n",
    "blocks = ['maintenance','manipulation']\n",
    "cur_labs = ['Right A1','Right cingulate']\n",
    "lab_ix = [9,7]\n",
    "titles = ['maintenance','manipulation']\n",
    "sidx = -1\n",
    "fig, axes = plt.subplots(ncols=2,nrows=2, figsize = (10,8))\n",
    "\n",
    "for clix, cl in enumerate(cur_labs):\n",
    "    for bidx,b in enumerate(blocks):\n",
    "        lidx = lab_ix[clix]\n",
    "        sidx = sidx + 1\n",
    "        rix, cix = sidx//2,sidx%2\n",
    "        ci_upper1 = stc_labels[b + '/' + 'mel1'][lidx] + 1.96*se_labels[b + '/' + 'mel1'][lidx]\n",
    "        ci_lower1 = stc_labels[b + '/' + 'mel1'][lidx] - 1.96*se_labels[b + '/' + 'mel1'][lidx]\n",
    "        ci_upper2 = stc_labels[b + '/' + 'mel2'][lidx] + 1.96*se_labels[b + '/' + 'mel2'][lidx]\n",
    "        ci_lower2 = stc_labels[b + '/' + 'mel2'][lidx] - 1.96*se_labels[b + '/' + 'mel2'][lidx]\n",
    "        axes[rix, cix].fill_between(times, ci_lower1, ci_upper1, color='b', alpha=.1)\n",
    "        axes[rix, cix].fill_between(times, ci_lower2, ci_upper2, color='r', alpha=.1)\n",
    "        axes[rix, cix].plot(times,stc_labels[b + '/' + 'mel1'][lidx],color='b')\n",
    "        axes[rix, cix].plot(times,stc_labels[b + '/' + 'mel2'][lidx],color='r')\n",
    "        #axes[rix, cix].plot(times,stc_labels[b + '/' + 'mel1-mel2'][lidx],color='k')\n",
    "        axes[rix, cix].set_title(titles[bidx] + ' ' + cl)\n",
    "        axes[rix, cix].set_ylim(-1.5,1.5)\n",
    "        axes[rix, cix].set_xlim(0,4)\n",
    "        axes[rix, cix].set_xlabel('time (s)')\n",
    "        axes[rix, cix].set_ylabel('source activation (a.u.)')\n",
    "        axes[rix, cix].axhline(0., color='k')\n",
    "        axes[rix, cix].axvline(0., color='k')\n",
    "        axes[rix, cix].axvline(2., color='k',linestyle='--')\n",
    "        axes[rix, cix].axvline(.5, color='k',linestyle=':')\n",
    "        axes[rix, cix].axvline(1, color='k',linestyle=':')\n",
    "        #axes[rix, cix].legend([clabels[cls] for cls in [0,8]])\n",
    "        axes[rix, cix].legend(['mel1','mel2'])#,'difference'])\n",
    "plt.tight_layout()\n",
    "plt.savefig(figures_dir + 'mels_sources_labels.pdf',orientation='portrait')"
   ]
  },
  {
   "cell_type": "code",
   "execution_count": null,
   "id": "9a6b7a6b",
   "metadata": {},
   "outputs": [],
   "source": [
    "times = stc.copy().crop(-.025,4).times \n",
    "periods = ['encoding','delay']\n",
    "blocks = ['maintenance','manipulation']\n",
    "cur_labs = ['Right A1','Right cingulate']\n",
    "lab_ix = [9,7]\n",
    "titles = ['maintenance','manipulation']\n",
    "sidx = -1\n",
    "fig, axes = plt.subplots(ncols=2,nrows=2, figsize = (12.5,10))\n",
    "\n",
    "for clix, cl in enumerate(cur_labs):\n",
    "    for bidx,b in enumerate(blocks):\n",
    "        lidx = lab_ix[clix]\n",
    "        sidx = sidx + 1\n",
    "        rix, cix = sidx//2,sidx%2\n",
    "        #axes[rix, cix].plot(times,stc_labels[b + '/' + 'mel1'][lidx],color='b')\n",
    "        #axes[rix, cix].plot(times,stc_labels[b + '/' + 'mel2'][lidx],color='r')\n",
    "        ci_upper = stc_labels['melody_' + b][lidx] + 1.96*se_labels['melody_' + b][lidx]\n",
    "        ci_lower = stc_labels['melody_' + b][lidx] - 1.96*se_labels['melody_' + b][lidx]\n",
    "        axes[rix, cix].fill_between(times, ci_lower, ci_upper, color='k', alpha=.2)\n",
    "        axes[rix, cix].plot(times,stc_labels['melody_' + b][lidx],color='k')\n",
    "        axes[rix, cix].set_title(titles[bidx] + ' ' + cl)\n",
    "        axes[rix, cix].set_ylim(-.5,.5)\n",
    "        axes[rix, cix].set_xlim(0,4)\n",
    "        axes[rix, cix].set_xlabel('time (s)')\n",
    "        axes[rix, cix].set_ylabel('source activation (a.u.)')\n",
    "        axes[rix, cix].axhline(0., color='k')\n",
    "        axes[rix, cix].axvline(0., color='k')\n",
    "        axes[rix, cix].axvline(2., color='k',linestyle='--')\n",
    "        axes[rix, cix].axvline(.5, color='k',linestyle=':')\n",
    "        axes[rix, cix].axvline(1, color='k',linestyle=':')\n",
    "        #axes[rix, cix].legend([clabels[cls] for cls in [0,8]])\n",
    "        axes[rix, cix].legend(['mel1 - mel2'])#,'difference'])\n",
    "plt.tight_layout()\n",
    "plt.savefig(figures_dir + 'mels_sources_labels_diff.pdf',orientation='portrait')"
   ]
  },
  {
   "cell_type": "code",
   "execution_count": null,
   "id": "60124e0b",
   "metadata": {},
   "outputs": [],
   "source": [
    "# # Plot 1 stc\n",
    "# p = 'delay'\n",
    "# c = 'maint'\n",
    "conds =['maintenance/mel1','maintenance/mel2','manipulation/mel1','manipulation/mel2',\n",
    "         'melody_maintenance','melody_manipulation','block','melody','interaction']\n",
    "for p in stats:\n",
    "    for c in conds:#stats[p]:\n",
    "        \n",
    "        #mask = stats[p][c]['pvals'] <= 0.001#25\n",
    "        mask = stats[p][c]['mask']# <= 0.025\n",
    "        cstc = stc.copy()\n",
    "        cstc.data = stats[p][c]['tvals']*mask#*stats[p][c]['mask']\n",
    "        #stc.tmin = periods[p][0]\n",
    "#         plot_times = np.arange(0,2,0.1)\n",
    "#         for pt in plot_times:\n",
    "        print('{} {} {}'.format(p,c,cstc.tmin))#+pt))\n",
    "        brain = cstc.mean().plot(subjects_dir=subs_dir,clim={'kind': 'value', 'lims': [0.001,1.9,5]},#time_viewer=True,\n",
    "                             subject='fsaverage', mode = 'glass_brain',src=src_sample)#,initial_time = stc.tmin+pt)"
   ]
  },
  {
   "cell_type": "code",
   "execution_count": null,
   "id": "e92f5062",
   "metadata": {},
   "outputs": [],
   "source": [
    "# # Plot 1 stc\n",
    "# for p in stats:\n",
    "#     for c in stats[p]:\n",
    "#         mask = stats[p][c]['qvals'] <= 0.025\n",
    "#         stc.data = stats[p][c]['data_mean']*mask#*stats[p][c]['mask']\n",
    "#         stc.tmin = periods[p][0]\n",
    "# #         plot_times = np.arange(0,2,0.1)\n",
    "# #         for pt in plot_times:\n",
    "#         print('{} {}'.format(p,c))#,stc.tmin+pt))\n",
    "#         brain = stc.mean().plot(subjects_dir=subs_dir,clim={'kind': 'value', 'pos_lims': [0.001,0.01,0.2]},#time_viewer=True,\n",
    "#                              subject='fsaverage', mode = 'stat_map',src=src_sample, initial_pos = [0.03,0,-0.03])#,initial_time = stc.tmin+pt)"
   ]
  }
 ],
 "metadata": {
  "kernelspec": {
   "display_name": "Python 3 (ipykernel)",
   "language": "python",
   "name": "python3"
  },
  "language_info": {
   "codemirror_mode": {
    "name": "ipython",
    "version": 3
   },
   "file_extension": ".py",
   "mimetype": "text/x-python",
   "name": "python",
   "nbconvert_exporter": "python",
   "pygments_lexer": "ipython3",
   "version": "3.9.10"
  }
 },
 "nbformat": 4,
 "nbformat_minor": 5
}
