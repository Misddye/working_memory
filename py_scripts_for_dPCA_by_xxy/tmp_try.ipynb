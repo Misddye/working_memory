{
 "cells": [
  {
   "cell_type": "code",
   "execution_count": 1,
   "metadata": {
    "collapsed": true
   },
   "outputs": [
    {
     "name": "stderr",
     "output_type": "stream",
     "text": [
      "/Users/xiangxingyu/opt/anaconda3/lib/python3.8/site-packages/pandas/core/computation/expressions.py:20: UserWarning: Pandas requires version '2.7.3' or newer of 'numexpr' (version '2.7.1' currently installed).\n",
      "  from pandas.core.computation.check import NUMEXPR_INSTALLED\n"
     ]
    }
   ],
   "source": [
    "from basic_data_reshape import *\n",
    "from dpca_calculation import dpca_fit\n",
    "import pickle\n",
    "import plots\n",
    "import importlib\n",
    "\n",
    "importlib.reload(plots)\n",
    "\n",
    "from plots import *\n",
    "\n",
    "import matplotlib.pyplot as plt"
   ]
  },
  {
   "cell_type": "code",
   "execution_count": 33,
   "outputs": [
    {
     "name": "stdout",
     "output_type": "stream",
     "text": [
      "rejecting incorrect trials\n",
      "rejecting incorrect trials\n",
      "(30, 306, 2, 2, 501)\n"
     ]
    }
   ],
   "source": [
    "ls = ['0011_U7X', '0012_VK2', '0013_NHJ', '0014_BKO', '0016_HJF', '0017_G8O']\n",
    "array_ls = []\n",
    "for i in ls:\n",
    "    recall_epochs, man_epochs = reshape_to_epochs(-1, 4, _id_ = i, baseline=(-1, 0), notch_filter=50, h_freq=20, l_freq=0.1, events_fun = main_task_decoding_events_fun, resample=100)\n",
    "    array1 = reshape_epoch_to_array(recall_epochs)\n",
    "    array2 = reshape_epoch_to_array(man_epochs)\n",
    "    tmp_array = concat_different_array(array1, array2)\n",
    "    array_ls.append(tmp_array)\n",
    "\n",
    "final_array_for_dpca = stack_different_subject_arrays(array_ls)\n",
    "\n",
    "print(final_array_for_dpca.shape) #(60, 306, 2, 2, 501)"
   ],
   "metadata": {
    "collapsed": false
   }
  },
  {
   "cell_type": "code",
   "execution_count": 34,
   "outputs": [],
   "source": [
    "with open('recall_epochs_0011.pkl', 'wb') as file:\n",
    "    pickle.dump(recall_epochs, file)\n",
    "with open('final_array_for_dpca_6.pkl', 'wb') as file:\n",
    "    pickle.dump(final_array_for_dpca, file)\n",
    "with open('Z_and_dpca_6.pkl', 'wb') as file:\n",
    "    pickle.dump([Z, dpca, Z_dic], file)"
   ],
   "metadata": {
    "collapsed": false
   }
  },
  {
   "cell_type": "code",
   "execution_count": 2,
   "outputs": [
    {
     "name": "stdout",
     "output_type": "stream",
     "text": [
      "(156, 306, 2, 2, 501)\n"
     ]
    }
   ],
   "source": [
    "with open('final_array_for_dpca_6.pkl', 'rb') as file:\n",
    "    final_array_for_dpca = pickle.load(file)\n",
    "# Clean the Nan arrays\n",
    "final_array_for_dpca = remove_nan_matrices(final_array_for_dpca)\n",
    "print((final_array_for_dpca.shape))"
   ],
   "metadata": {
    "collapsed": false
   }
  },
  {
   "cell_type": "code",
   "execution_count": 7,
   "outputs": [
    {
     "name": "stdout",
     "output_type": "stream",
     "text": [
      "You chose to determine the regularization parameter automatically. This can\n",
      "                    take substantial time and grows linearly with the number of crossvalidation\n",
      "                    folds. The latter can be set by changing self.n_trials (default = 3). Similarly,\n",
      "                    use self.protect to set the list of axes that are not supposed to get to get shuffled\n",
      "                    (e.g. upon splitting the data into test- and training, time-points should always\n",
      "                    be drawn from the same trial, i.e. self.protect = ['t']). This can significantly\n",
      "                    speed up the code.\n",
      "Start optimizing regularization.\n",
      "Starting trial  1 / 3\n",
      "Starting trial  2 / 3\n",
      "Starting trial  3 / 3\n",
      "Optimized regularization, optimal lambda =  0.013016111155156117\n",
      "Regularization will be fixed; to compute the optimal                    parameter again on the next fit, please                    set opt_regularizer_flag to True.\n"
     ]
    }
   ],
   "source": [
    "Z, dpca = dpca_fit(final_array_for_dpca, 'bst')"
   ],
   "metadata": {
    "collapsed": false
   }
  },
  {
   "cell_type": "code",
   "execution_count": null,
   "outputs": [],
   "source": [
    "Z_dic = make_dic(Z, dpca, final_array_for_dpca)"
   ],
   "metadata": {
    "collapsed": false
   }
  },
  {
   "cell_type": "code",
   "execution_count": 3,
   "outputs": [
    {
     "name": "stdout",
     "output_type": "stream",
     "text": [
      "<built-in method keys of dict object at 0x7faa46147240> <class 'dPCA.dPCA.dPCA'>\n",
      "['subject147', 'subject148', 'subject149', 'subject150', 'subject151', 'subject152', 'subject153', 'subject154', 'subject155', 'average']\n",
      "dict_keys(['b', 's', 't', 'bs', 'bt', 'st', 'bst'])\n",
      "(10, 2, 2, 501)\n"
     ]
    }
   ],
   "source": [
    "with open('Z_and_dpca_6.pkl', 'rb') as file:\n",
    "    Z, dpca, Z_dic = pickle.load(file)\n",
    "print(Z.keys, type(dpca))\n",
    "print(list(Z_dic.keys())[-10:])\n",
    "print(Z_dic['average'].keys())\n",
    "print(Z_dic['average']['t'].shape)"
   ],
   "metadata": {
    "collapsed": false
   }
  },
  {
   "cell_type": "code",
   "execution_count": 8,
   "outputs": [],
   "source": [
    "plot_component_coordinate(Z_dic)\n",
    "plt.savefig('6_subject_stack_average_component.png')\n",
    "plt.close()"
   ],
   "metadata": {
    "collapsed": false
   }
  },
  {
   "cell_type": "code",
   "execution_count": 10,
   "outputs": [],
   "source": [
    "plot_component_coordinate(Z_dic, only_average = False)\n",
    "plt.savefig('6_subject_stack_all_component.png')\n",
    "plt.close()"
   ],
   "metadata": {
    "collapsed": false
   }
  },
  {
   "cell_type": "code",
   "execution_count": null,
   "outputs": [],
   "source": [
    "component_keys = ['b','s', 'bs']\n",
    "three_d_plot_component_coordinate(Z_dic, component_keys)\n",
    "\n",
    "plt.savefig('6_subject_bsbs.png')"
   ],
   "metadata": {
    "collapsed": false,
    "pycharm": {
     "is_executing": true
    }
   }
  },
  {
   "cell_type": "code",
   "execution_count": 26,
   "outputs": [],
   "source": [
    "component_keys = ['bt','st', 'bst']\n",
    "three_d_plot_component_coordinate(Z_dic, component_keys)\n",
    "\n",
    "plt.savefig('6_subject_bst.png')"
   ],
   "metadata": {
    "collapsed": false
   }
  },
  {
   "cell_type": "code",
   "execution_count": 30,
   "outputs": [
    {
     "name": "stderr",
     "output_type": "stream",
     "text": [
      "/Users/xiangxingyu/Desktop/working_memory/py_scripts_for_dPCA_by_xxy/plots.py:89: UserWarning: The figure layout has changed to tight\n",
      "  \n"
     ]
    }
   ],
   "source": [
    "component_keys = ['b','s', 'bs']\n",
    "three_d_plot_component_coordinate(Z_dic, component_keys, only_average = False)\n",
    "\n",
    "plt.savefig('6_subject_bsbs_all.png')"
   ],
   "metadata": {
    "collapsed": false
   }
  },
  {
   "cell_type": "code",
   "execution_count": null,
   "outputs": [],
   "source": [
    "topo_PlotBasis(dpca)"
   ],
   "metadata": {
    "collapsed": false
   }
  },
  {
   "cell_type": "code",
   "execution_count": 4,
   "outputs": [],
   "source": [
    "evoked_dic = reshape_dpca_base_to_evoked_dic(dpca)"
   ],
   "metadata": {
    "collapsed": false
   }
  },
  {
   "cell_type": "code",
   "execution_count": 5,
   "outputs": [
    {
     "name": "stdout",
     "output_type": "stream",
     "text": [
      "{'b': {'componentNo_0': <Evoked | '' (average, N=1), 0 – 0 s, baseline off, 306 ch, ~5.2 MB>, 'componentNo_1': <Evoked | '' (average, N=1), 0 – 0 s, baseline off, 306 ch, ~5.2 MB>, 'componentNo_2': <Evoked | '' (average, N=1), 0 – 0 s, baseline off, 306 ch, ~5.2 MB>}, 's': {'componentNo_0': <Evoked | '' (average, N=1), 0 – 0 s, baseline off, 306 ch, ~5.2 MB>, 'componentNo_1': <Evoked | '' (average, N=1), 0 – 0 s, baseline off, 306 ch, ~5.2 MB>, 'componentNo_2': <Evoked | '' (average, N=1), 0 – 0 s, baseline off, 306 ch, ~5.2 MB>}, 't': {'componentNo_0': <Evoked | '' (average, N=1), 0 – 0 s, baseline off, 306 ch, ~5.2 MB>, 'componentNo_1': <Evoked | '' (average, N=1), 0 – 0 s, baseline off, 306 ch, ~5.2 MB>, 'componentNo_2': <Evoked | '' (average, N=1), 0 – 0 s, baseline off, 306 ch, ~5.2 MB>}, 'bs': {'componentNo_0': <Evoked | '' (average, N=1), 0 – 0 s, baseline off, 306 ch, ~5.2 MB>, 'componentNo_1': <Evoked | '' (average, N=1), 0 – 0 s, baseline off, 306 ch, ~5.2 MB>, 'componentNo_2': <Evoked | '' (average, N=1), 0 – 0 s, baseline off, 306 ch, ~5.2 MB>}, 'bt': {'componentNo_0': <Evoked | '' (average, N=1), 0 – 0 s, baseline off, 306 ch, ~5.2 MB>, 'componentNo_1': <Evoked | '' (average, N=1), 0 – 0 s, baseline off, 306 ch, ~5.2 MB>, 'componentNo_2': <Evoked | '' (average, N=1), 0 – 0 s, baseline off, 306 ch, ~5.2 MB>}, 'st': {'componentNo_0': <Evoked | '' (average, N=1), 0 – 0 s, baseline off, 306 ch, ~5.2 MB>, 'componentNo_1': <Evoked | '' (average, N=1), 0 – 0 s, baseline off, 306 ch, ~5.2 MB>, 'componentNo_2': <Evoked | '' (average, N=1), 0 – 0 s, baseline off, 306 ch, ~5.2 MB>}, 'bst': {'componentNo_0': <Evoked | '' (average, N=1), 0 – 0 s, baseline off, 306 ch, ~5.2 MB>, 'componentNo_1': <Evoked | '' (average, N=1), 0 – 0 s, baseline off, 306 ch, ~5.2 MB>, 'componentNo_2': <Evoked | '' (average, N=1), 0 – 0 s, baseline off, 306 ch, ~5.2 MB>}}\n"
     ]
    }
   ],
   "source": [
    "print(evoked_dic)"
   ],
   "metadata": {
    "collapsed": false
   }
  },
  {
   "cell_type": "code",
   "execution_count": 5,
   "outputs": [],
   "source": [
    "with open('recall_epochs_0011.pkl', 'rb') as file:\n",
    "    recall_epochs = pickle.load(file)"
   ],
   "metadata": {
    "collapsed": false,
    "pycharm": {
     "name": "#%%for\n"
    }
   }
  },
  {
   "cell_type": "code",
   "execution_count": 6,
   "outputs": [
    {
     "name": "stdout",
     "output_type": "stream",
     "text": [
      "['0011_U7X_decoding_inv_task_lf_0.05_hf_None_grad.p', '0016_HJF_decoding_inv_task_lf_0.05_hf_None_all.p', '0014_BKO_decoding_inv_task_lf_0.05_hf_None_grad.p', '0012_VK2_decoding_inv_task_lf_0.05_hf_None_all.p', '0017_G8O_decoding_inv_task_lf_0.05_hf_None_mag.p', '0014_BKO_decoding_inv_task_lf_0.05_hf_None_mag.p', '0013_NHJ_decoding_inv_task_lf_0.05_hf_None_mag.p', '0011_U7X_decoding_inv_task_lf_0.05_hf_None_mag.p', '0016_HJF_decoding_inv_task_lf_0.05_hf_None_mag.p', '0012_VK2_decoding_inv_task_lf_0.05_hf_None_mag.p', '0013_NHJ_decoding_inv_task_lf_0.05_hf_None_grad.p', '0017_G8O_decoding_inv_task_lf_0.05_hf_None_grad.p', '0017_G8O_decoding_inv_task_lf_0.05_hf_None_all.p', '0014_BKO_decoding_inv_task_lf_0.05_hf_None_all.p', '0011_U7X_decoding_inv_task_lf_0.05_hf_None_all.p', '0016_HJF_decoding_inv_task_lf_0.05_hf_None_grad.p', '0013_NHJ_decoding_inv_task_lf_0.05_hf_None_all.p', '0012_VK2_decoding_inv_task_lf_0.05_hf_None_grad.p']\n"
     ]
    }
   ],
   "source": [
    "directory = '/Users/xiangxingyu/Downloads/毕业设计/UCB线上科研/data/04_inverse_operator'\n",
    "files = os.listdir(directory)\n",
    "\n",
    "p_files = [file for file in files if file.endswith('.p')]\n",
    "\n",
    "print(p_files)"
   ],
   "metadata": {
    "collapsed": false
   }
  },
  {
   "cell_type": "code",
   "execution_count": 16,
   "outputs": [
    {
     "name": "stdout",
     "output_type": "stream",
     "text": [
      "0011_U7X_decoding_inv_task_lf_0.05_hf_None_grad.p\n",
      "Sphere                : origin at (0.0 0.0 0.0) mm\n",
      "              radius  : 95.0 mm\n",
      "grid                  : 10.0 mm\n",
      "mindist               : 5.0 mm\n",
      "MRI volume            : /Users/xiangxingyu/Downloads/毕业设计/UCB线上科研/data/fs_subjects_dir/fsaverage/mri/T1.mgz\n",
      "\n",
      "Reading /Users/xiangxingyu/Downloads/毕业设计/UCB线上科研/data/fs_subjects_dir/fsaverage/mri/T1.mgz...\n",
      "\n",
      "Setting up the sphere...\n",
      "Surface CM = (   0.0    0.0    0.0) mm\n",
      "Surface fits inside a sphere with radius   95.0 mm\n",
      "Surface extent:\n",
      "    x =  -95.0 ...   95.0 mm\n",
      "    y =  -95.0 ...   95.0 mm\n",
      "    z =  -95.0 ...   95.0 mm\n",
      "Grid extent:\n",
      "    x = -100.0 ...  100.0 mm\n",
      "    y = -100.0 ...  100.0 mm\n",
      "    z = -100.0 ...  100.0 mm\n",
      "9261 sources before omitting any.\n",
      "3695 sources after omitting infeasible sources not within 0.0 - 95.0 mm.\n",
      "2969 sources remaining after excluding the sources outside the surface and less than    5.0 mm inside.\n",
      "Adjusting the neighborhood info.\n",
      "Source space : MRI voxel -> MRI (surface RAS)\n",
      "     0.010000  0.000000  0.000000    -100.00 mm\n",
      "     0.000000  0.010000  0.000000    -100.00 mm\n",
      "     0.000000  0.000000  0.010000    -100.00 mm\n",
      "     0.000000  0.000000  0.000000       1.00\n",
      "MRI volume : MRI voxel -> MRI (surface RAS)\n",
      "    -0.001000  0.000000  0.000000     128.00 mm\n",
      "     0.000000  0.000000  0.001000    -128.00 mm\n",
      "     0.000000 -0.001000  0.000000     128.00 mm\n",
      "     0.000000  0.000000  0.000000       1.00\n",
      "MRI volume : MRI (surface RAS) -> RAS (non-zero origin)\n",
      "     1.000000  0.000000  0.000000       0.00 mm\n",
      "     0.000000  1.000000  0.000000       0.00 mm\n",
      "     0.000000  0.000000  1.000000       0.00 mm\n",
      "     0.000000  0.000000  0.000000       1.00\n",
      "Setting up volume interpolation ...\n",
      "    25538165/16777216 nonzero values for the whole brain\n",
      "[done]\n"
     ]
    },
    {
     "ename": "ValueError",
     "evalue": "index 9261 is out of bounds for array with size 9261",
     "output_type": "error",
     "traceback": [
      "\u001B[0;31m---------------------------------------------------------------------------\u001B[0m",
      "\u001B[0;31mValueError\u001B[0m                                Traceback (most recent call last)",
      "Cell \u001B[0;32mIn[16], line 48\u001B[0m\n\u001B[1;32m     42\u001B[0m stc_fsaverage \u001B[38;5;241m=\u001B[39m morph\u001B[38;5;241m.\u001B[39mapply(stc)\n\u001B[1;32m     44\u001B[0m src \u001B[38;5;241m=\u001B[39m mne\u001B[38;5;241m.\u001B[39msetup_volume_source_space(subject\u001B[38;5;241m=\u001B[39mfs_average, pos\u001B[38;5;241m=\u001B[39m\u001B[38;5;241m10.0\u001B[39m,\n\u001B[1;32m     45\u001B[0m                             mri\u001B[38;5;241m=\u001B[39m\u001B[38;5;28;01mNone\u001B[39;00m, subjects_dir\u001B[38;5;241m=\u001B[39msubjects_dir,\n\u001B[1;32m     46\u001B[0m                             add_interpolator\u001B[38;5;241m=\u001B[39m\u001B[38;5;28;01mTrue\u001B[39;00m, verbose\u001B[38;5;241m=\u001B[39m\u001B[38;5;28;01mTrue\u001B[39;00m)\n\u001B[0;32m---> 48\u001B[0m brain \u001B[38;5;241m=\u001B[39m \u001B[43mstc_fsaverage\u001B[49m\u001B[38;5;241;43m.\u001B[39;49m\u001B[43mplot\u001B[49m\u001B[43m(\u001B[49m\u001B[43msrc\u001B[49m\u001B[43m \u001B[49m\u001B[38;5;241;43m=\u001B[39;49m\u001B[43m \u001B[49m\u001B[43msrc\u001B[49m\u001B[43m,\u001B[49m\u001B[43m \u001B[49m\u001B[43msubjects_dir\u001B[49m\u001B[43m \u001B[49m\u001B[38;5;241;43m=\u001B[39;49m\u001B[43m \u001B[49m\u001B[43msubjects_dir\u001B[49m\u001B[43m,\u001B[49m\u001B[43m \u001B[49m\u001B[43msubject\u001B[49m\u001B[43m \u001B[49m\u001B[38;5;241;43m=\u001B[39;49m\u001B[43m \u001B[49m\u001B[43mfs_average\u001B[49m\u001B[43m,\u001B[49m\u001B[43m \u001B[49m\u001B[43mmode\u001B[49m\u001B[43m \u001B[49m\u001B[38;5;241;43m=\u001B[39;49m\u001B[43m \u001B[49m\u001B[38;5;124;43m'\u001B[39;49m\u001B[38;5;124;43mglass_brain\u001B[39;49m\u001B[38;5;124;43m'\u001B[39;49m\u001B[43m)\u001B[49m\n\u001B[1;32m     49\u001B[0m fig_path \u001B[38;5;241m=\u001B[39m \u001B[38;5;124mf\u001B[39m\u001B[38;5;124m'\u001B[39m\u001B[38;5;124msource_fig/inv_solution_average\u001B[39m\u001B[38;5;132;01m{\u001B[39;00minv_file\u001B[38;5;132;01m}\u001B[39;00m\u001B[38;5;124m/\u001B[39m\u001B[38;5;132;01m{\u001B[39;00mcomponent_type\u001B[38;5;132;01m}\u001B[39;00m\u001B[38;5;124m/glass_brain\u001B[39m\u001B[38;5;132;01m{\u001B[39;00mno_component\u001B[38;5;132;01m}\u001B[39;00m\u001B[38;5;124m.png\u001B[39m\u001B[38;5;124m'\u001B[39m  \u001B[38;5;66;03m# Update the path as needed\u001B[39;00m\n\u001B[1;32m     50\u001B[0m brain\u001B[38;5;241m.\u001B[39msavefig(fig_path)  \u001B[38;5;66;03m# Take a screenshot of the Brain object\u001B[39;00m\n",
      "File \u001B[0;32m~/opt/anaconda3/lib/python3.8/site-packages/mne/source_estimate.py:2257\u001B[0m, in \u001B[0;36m_BaseVolSourceEstimate.plot\u001B[0;34m(self, src, subject, subjects_dir, mode, bg_img, colorbar, colormap, clim, transparent, show, initial_time, initial_pos, verbose)\u001B[0m\n\u001B[1;32m   2239\u001B[0m \u001B[38;5;129m@copy_function_doc_to_method_doc\u001B[39m(plot_volume_source_estimates)\n\u001B[1;32m   2240\u001B[0m \u001B[38;5;28;01mdef\u001B[39;00m \u001B[38;5;21mplot\u001B[39m(\n\u001B[1;32m   2241\u001B[0m     \u001B[38;5;28mself\u001B[39m,\n\u001B[0;32m   (...)\u001B[0m\n\u001B[1;32m   2254\u001B[0m     verbose\u001B[38;5;241m=\u001B[39m\u001B[38;5;28;01mNone\u001B[39;00m,\n\u001B[1;32m   2255\u001B[0m ):\n\u001B[1;32m   2256\u001B[0m     data \u001B[38;5;241m=\u001B[39m \u001B[38;5;28mself\u001B[39m\u001B[38;5;241m.\u001B[39mmagnitude() \u001B[38;5;28;01mif\u001B[39;00m \u001B[38;5;28mself\u001B[39m\u001B[38;5;241m.\u001B[39m_data_ndim \u001B[38;5;241m==\u001B[39m \u001B[38;5;241m3\u001B[39m \u001B[38;5;28;01melse\u001B[39;00m \u001B[38;5;28mself\u001B[39m\n\u001B[0;32m-> 2257\u001B[0m     \u001B[38;5;28;01mreturn\u001B[39;00m \u001B[43mplot_volume_source_estimates\u001B[49m\u001B[43m(\u001B[49m\n\u001B[1;32m   2258\u001B[0m \u001B[43m        \u001B[49m\u001B[43mdata\u001B[49m\u001B[43m,\u001B[49m\n\u001B[1;32m   2259\u001B[0m \u001B[43m        \u001B[49m\u001B[43msrc\u001B[49m\u001B[38;5;241;43m=\u001B[39;49m\u001B[43msrc\u001B[49m\u001B[43m,\u001B[49m\n\u001B[1;32m   2260\u001B[0m \u001B[43m        \u001B[49m\u001B[43msubject\u001B[49m\u001B[38;5;241;43m=\u001B[39;49m\u001B[43msubject\u001B[49m\u001B[43m,\u001B[49m\n\u001B[1;32m   2261\u001B[0m \u001B[43m        \u001B[49m\u001B[43msubjects_dir\u001B[49m\u001B[38;5;241;43m=\u001B[39;49m\u001B[43msubjects_dir\u001B[49m\u001B[43m,\u001B[49m\n\u001B[1;32m   2262\u001B[0m \u001B[43m        \u001B[49m\u001B[43mmode\u001B[49m\u001B[38;5;241;43m=\u001B[39;49m\u001B[43mmode\u001B[49m\u001B[43m,\u001B[49m\n\u001B[1;32m   2263\u001B[0m \u001B[43m        \u001B[49m\u001B[43mbg_img\u001B[49m\u001B[38;5;241;43m=\u001B[39;49m\u001B[43mbg_img\u001B[49m\u001B[43m,\u001B[49m\n\u001B[1;32m   2264\u001B[0m \u001B[43m        \u001B[49m\u001B[43mcolorbar\u001B[49m\u001B[38;5;241;43m=\u001B[39;49m\u001B[43mcolorbar\u001B[49m\u001B[43m,\u001B[49m\n\u001B[1;32m   2265\u001B[0m \u001B[43m        \u001B[49m\u001B[43mcolormap\u001B[49m\u001B[38;5;241;43m=\u001B[39;49m\u001B[43mcolormap\u001B[49m\u001B[43m,\u001B[49m\n\u001B[1;32m   2266\u001B[0m \u001B[43m        \u001B[49m\u001B[43mclim\u001B[49m\u001B[38;5;241;43m=\u001B[39;49m\u001B[43mclim\u001B[49m\u001B[43m,\u001B[49m\n\u001B[1;32m   2267\u001B[0m \u001B[43m        \u001B[49m\u001B[43mtransparent\u001B[49m\u001B[38;5;241;43m=\u001B[39;49m\u001B[43mtransparent\u001B[49m\u001B[43m,\u001B[49m\n\u001B[1;32m   2268\u001B[0m \u001B[43m        \u001B[49m\u001B[43mshow\u001B[49m\u001B[38;5;241;43m=\u001B[39;49m\u001B[43mshow\u001B[49m\u001B[43m,\u001B[49m\n\u001B[1;32m   2269\u001B[0m \u001B[43m        \u001B[49m\u001B[43minitial_time\u001B[49m\u001B[38;5;241;43m=\u001B[39;49m\u001B[43minitial_time\u001B[49m\u001B[43m,\u001B[49m\n\u001B[1;32m   2270\u001B[0m \u001B[43m        \u001B[49m\u001B[43minitial_pos\u001B[49m\u001B[38;5;241;43m=\u001B[39;49m\u001B[43minitial_pos\u001B[49m\u001B[43m,\u001B[49m\n\u001B[1;32m   2271\u001B[0m \u001B[43m        \u001B[49m\u001B[43mverbose\u001B[49m\u001B[38;5;241;43m=\u001B[39;49m\u001B[43mverbose\u001B[49m\u001B[43m,\u001B[49m\n\u001B[1;32m   2272\u001B[0m \u001B[43m    \u001B[49m\u001B[43m)\u001B[49m\n",
      "File \u001B[0;32m<decorator-gen-154>:12\u001B[0m, in \u001B[0;36mplot_volume_source_estimates\u001B[0;34m(stc, src, subject, subjects_dir, mode, bg_img, colorbar, colormap, clim, transparent, show, initial_time, initial_pos, verbose)\u001B[0m\n",
      "File \u001B[0;32m~/opt/anaconda3/lib/python3.8/site-packages/mne/viz/_3d.py:2821\u001B[0m, in \u001B[0;36mplot_volume_source_estimates\u001B[0;34m(***failed resolving arguments***)\u001B[0m\n\u001B[1;32m   2814\u001B[0m _print_coord_trans(\n\u001B[1;32m   2815\u001B[0m     Transform(\u001B[38;5;124m\"\u001B[39m\u001B[38;5;124mmri_voxel\u001B[39m\u001B[38;5;124m\"\u001B[39m, \u001B[38;5;124m\"\u001B[39m\u001B[38;5;124mras\u001B[39m\u001B[38;5;124m\"\u001B[39m, img\u001B[38;5;241m.\u001B[39maffine),\n\u001B[1;32m   2816\u001B[0m     prefix\u001B[38;5;241m=\u001B[39m\u001B[38;5;124m\"\u001B[39m\u001B[38;5;124mImage affine \u001B[39m\u001B[38;5;124m\"\u001B[39m,\n\u001B[1;32m   2817\u001B[0m     units\u001B[38;5;241m=\u001B[39m\u001B[38;5;124m\"\u001B[39m\u001B[38;5;124mmm\u001B[39m\u001B[38;5;124m\"\u001B[39m,\n\u001B[1;32m   2818\u001B[0m     level\u001B[38;5;241m=\u001B[39m\u001B[38;5;124m\"\u001B[39m\u001B[38;5;124mdebug\u001B[39m\u001B[38;5;124m\"\u001B[39m,\n\u001B[1;32m   2819\u001B[0m )\n\u001B[1;32m   2820\u001B[0m subject \u001B[38;5;241m=\u001B[39m _check_subject(src_subject, subject, first_kind\u001B[38;5;241m=\u001B[39mkind)\n\u001B[0;32m-> 2821\u001B[0m stc_ijk \u001B[38;5;241m=\u001B[39m np\u001B[38;5;241m.\u001B[39marray(\u001B[43mnp\u001B[49m\u001B[38;5;241;43m.\u001B[39;49m\u001B[43munravel_index\u001B[49m\u001B[43m(\u001B[49m\u001B[43mstc\u001B[49m\u001B[38;5;241;43m.\u001B[39;49m\u001B[43mvertices\u001B[49m\u001B[43m[\u001B[49m\u001B[38;5;241;43m0\u001B[39;49m\u001B[43m]\u001B[49m\u001B[43m,\u001B[49m\u001B[43m \u001B[49m\u001B[43mimg\u001B[49m\u001B[38;5;241;43m.\u001B[39;49m\u001B[43mshape\u001B[49m\u001B[43m[\u001B[49m\u001B[43m:\u001B[49m\u001B[38;5;241;43m3\u001B[39;49m\u001B[43m]\u001B[49m\u001B[43m,\u001B[49m\u001B[43m \u001B[49m\u001B[43morder\u001B[49m\u001B[38;5;241;43m=\u001B[39;49m\u001B[38;5;124;43m\"\u001B[39;49m\u001B[38;5;124;43mF\u001B[39;49m\u001B[38;5;124;43m\"\u001B[39;49m\u001B[43m)\u001B[49m)\u001B[38;5;241m.\u001B[39mT\n\u001B[1;32m   2822\u001B[0m \u001B[38;5;28;01massert\u001B[39;00m stc_ijk\u001B[38;5;241m.\u001B[39mshape \u001B[38;5;241m==\u001B[39m (\u001B[38;5;28mlen\u001B[39m(stc\u001B[38;5;241m.\u001B[39mvertices[\u001B[38;5;241m0\u001B[39m]), \u001B[38;5;241m3\u001B[39m)\n\u001B[1;32m   2823\u001B[0m \u001B[38;5;28;01mdel\u001B[39;00m kind\n",
      "File \u001B[0;32m<__array_function__ internals>:180\u001B[0m, in \u001B[0;36munravel_index\u001B[0;34m(*args, **kwargs)\u001B[0m\n",
      "\u001B[0;31mValueError\u001B[0m: index 9261 is out of bounds for array with size 9261"
     ]
    }
   ],
   "source": [
    "for inv_file in p_files:\n",
    "    print(inv_file)\n",
    "    info = recall_epochs.info\n",
    "    picked_channels = mne.pick_types(info, meg=True, eeg=False, stim=False, eog=False,\n",
    "                                     exclude='bads')\n",
    "    info_picked = mne.pick_info(info, picked_channels)\n",
    "\n",
    "    tmp_dir = '/Users/xiangxingyu/Downloads/毕业设计/UCB线上科研/data/'\n",
    "\n",
    "    id_num = inv_file[:8]\n",
    "\n",
    "    inv_op_file_path = tmp_dir + '04_inverse_operator/' + inv_file\n",
    "    fwd_file_path = tmp_dir +f'03_forward_model/{id_num}_vol-fwd.fif'\n",
    "\n",
    "    with open(inv_op_file_path, 'rb') as file:\n",
    "        lcmv_beamformer = pickle.load(file)\n",
    "\n",
    "    fwd = mne.read_forward_solution(fwd_file_path)\n",
    "    src = fwd['src']\n",
    "\n",
    "    inv_file = inv_file.replace('.p','')\n",
    "\n",
    "    for component_type in evoked_dic:\n",
    "        if not os.path.exists(f'source_fig/inv_solution_{inv_file}'):\n",
    "            os.mkdir(f'source_fig/inv_solution_{inv_file}')\n",
    "\n",
    "        if not os.path.exists(f'source_fig/inv_solution_{inv_file}/{component_type}'):\n",
    "            os.mkdir(f'source_fig/inv_solution_{inv_file}/{component_type}')\n",
    "\n",
    "        for no_component in evoked_dic[component_type]:\n",
    "            evoked_array = evoked_dic[component_type][no_component]\n",
    "\n",
    "            stc = mne.beamformer.apply_lcmv(evoked_array, lcmv_beamformer)\n",
    "\n",
    "            subjects_dir = tmp_dir + 'fs_subjects_dir/'\n",
    "\n",
    "            subject = id_num\n",
    "\n",
    "            brain = stc.plot(src=src, subjects_dir=subjects_dir, subject=subject, mode='glass_brain')\n",
    "            fig_path = f'source_fig/inv_solution_{inv_file}/{component_type}/glass_brain{no_component}.png'  # Update the path as needed\n",
    "            brain.savefig(fig_path)  # Take a screenshot of the Brain object\n",
    "\n",
    "            brain = stc.plot(src=src, subjects_dir=subjects_dir, subject=subject, mode='stat_map')\n",
    "            fig_path = f'source_fig/inv_solution_{inv_file}/{component_type}/stat_map{no_component}.png'  # Update the path as needed\n",
    "            brain.savefig(fig_path)"
   ],
   "metadata": {
    "collapsed": false
   }
  },
  {
   "cell_type": "code",
   "execution_count": 7,
   "outputs": [],
   "source": [
    "for inv_file in p_files[:1]:\n",
    "    print(inv_file)\n",
    "    info = recall_epochs.info\n",
    "    picked_channels = mne.pick_types(info, meg=True, eeg=False, stim=False, eog=False,\n",
    "                                     exclude='bads')\n",
    "    info_picked = mne.pick_info(info, picked_channels)\n",
    "\n",
    "    tmp_dir = '/Users/xiangxingyu/Downloads/毕业设计/UCB线上科研/data/'\n",
    "\n",
    "    id_num = inv_file[:8]\n",
    "\n",
    "    inv_op_file_path = tmp_dir + '04_inverse_operator/' + inv_file\n",
    "    fwd_file_path = tmp_dir +f'03_forward_model/{id_num}_vol-fwd.fif'\n",
    "\n",
    "    with open(inv_op_file_path, 'rb') as file:\n",
    "        lcmv_beamformer = pickle.load(file)\n",
    "\n",
    "    fwd = mne.read_forward_solution(fwd_file_path)\n",
    "    src = fwd['src']\n",
    "\n",
    "    inv_file = inv_file.replace('.p','')\n",
    "\n",
    "    for component_type in evoked_dic:\n",
    "        if not os.path.exists(f'source_fig/inv_solution_average{inv_file}'):\n",
    "            os.mkdir(f'source_fig/inv_solution_average{inv_file}')\n",
    "\n",
    "        if not os.path.exists(f'source_fig/inv_solution_average{inv_file}/{component_type}'):\n",
    "            os.mkdir(f'source_fig/inv_solution_average{inv_file}/{component_type}')\n",
    "\n",
    "        for no_component in evoked_dic[component_type]:\n",
    "            evoked_array = evoked_dic[component_type][no_component]\n",
    "\n",
    "            stc = mne.beamformer.apply_lcmv(evoked_array, lcmv_beamformer)\n",
    "\n",
    "            subjects_dir = tmp_dir + 'fs_subjects_dir/'\n",
    "\n",
    "            subject = id_num\n",
    "\n",
    "            fs_average = 'fsaverage'\n",
    "            morph = mne.compute_source_morph(src, subject_from=id_num, subject_to=fs_average,\n",
    "                                 subjects_dir=subjects_dir)\n",
    "            stc_fsaverage = morph.apply(stc)\n",
    "\n",
    "            src = mne.setup_volume_source_space(subject=fs_average, pos=10.0,\n",
    "                                        mri=None, subjects_dir=subjects_dir,\n",
    "                                        add_interpolator=True, verbose=True)\n",
    "\n",
    "            brain = stc_fsaverage.plot(src = src, subjects_dir = subjects_dir, subject = fs_average, mode = 'glass_brain')\n",
    "            fig_path = f'source_fig/inv_solution_average{inv_file}/{component_type}/glass_brain{no_component}.png'  # Update the path as needed\n",
    "            brain.savefig(fig_path)  # Take a screenshot of the Brain object\n",
    "\n",
    "            brain = stc_fsaverage.plot(src=src, subjects_dir=subjects_dir, subject=fs_average, mode='stat_map')\n",
    "            fig_path = f'source_fig/inv_solution_average{inv_file}/{component_type}/stat_map{no_component}.png'  # Update the path as needed\n",
    "            brain.savefig(fig_path)"
   ],
   "metadata": {
    "collapsed": false
   }
  }
 ],
 "metadata": {
  "kernelspec": {
   "display_name": "Python 3",
   "language": "python",
   "name": "python3"
  },
  "language_info": {
   "codemirror_mode": {
    "name": "ipython",
    "version": 2
   },
   "file_extension": ".py",
   "mimetype": "text/x-python",
   "name": "python",
   "nbconvert_exporter": "python",
   "pygments_lexer": "ipython2",
   "version": "2.7.6"
  }
 },
 "nbformat": 4,
 "nbformat_minor": 0
}
